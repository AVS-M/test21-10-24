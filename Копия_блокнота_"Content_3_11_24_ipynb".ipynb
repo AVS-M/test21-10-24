{
  "nbformat": 4,
  "nbformat_minor": 0,
  "metadata": {
    "colab": {
      "provenance": [],
      "authorship_tag": "ABX9TyMJrgXxQbs9YmbNT1xfBYPM",
      "include_colab_link": true
    },
    "kernelspec": {
      "name": "python3",
      "display_name": "Python 3"
    },
    "language_info": {
      "name": "python"
    }
  },
  "cells": [
    {
      "cell_type": "markdown",
      "metadata": {
        "id": "view-in-github",
        "colab_type": "text"
      },
      "source": [
        "<a href=\"https://colab.research.google.com/github/AVS-M/test21-10-24/blob/main/%D0%9A%D0%BE%D0%BF%D0%B8%D1%8F_%D0%B1%D0%BB%D0%BE%D0%BA%D0%BD%D0%BE%D1%82%D0%B0_%22Content_3_11_24_ipynb%22.ipynb\" target=\"_parent\"><img src=\"https://colab.research.google.com/assets/colab-badge.svg\" alt=\"Open In Colab\"/></a>"
      ]
    },
    {
      "cell_type": "code",
      "source": [
        "from google.colab import drive\n",
        "drive.mount('/content/drive')"
      ],
      "metadata": {
        "id": "dvPdDJEZq9xM"
      },
      "execution_count": null,
      "outputs": []
    },
    {
      "cell_type": "code",
      "source": [
        "import requests\n",
        "from bs4 import BeautifulSoup\n",
        "import re\n",
        "\n",
        "# Основная функция для анализа упоминаний фамилии\n",
        "def analyze_mentions(url, surname):\n",
        "    # Загружаем страницу\n",
        "    response = requests.get(url)\n",
        "    response.raise_for_status()  # Проверка успешности запроса\n",
        "\n",
        "    # Извлекаем текст со страницы\n",
        "    soup = BeautifulSoup(response.text, 'html.parser')\n",
        "    text = soup.get_text()\n",
        "\n",
        "    # Создаем шаблон для фамилии с учетом склонений\n",
        "    surname_pattern = re.compile(fr'\\b{surname}[а-я]*\\b', re.IGNORECASE)\n",
        "\n",
        "    # Находим все упоминания\n",
        "    mentions = surname_pattern.findall(text)\n",
        "    print(f\"Количество упоминаний фамилии '{surname}':\", len(mentions))\n",
        "    #for mention in mentions:\n",
        "        #print(mention)\n",
        "\n",
        "# Получаем URL и фамилию от пользователя\n",
        "url = input(\"Введите URL страницы: \")\n",
        "surname = input(\"Введите фамилию для анализа: \")\n",
        "\n",
        "# Запускаем функцию анализа\n",
        "analyze_mentions(url, surname)\n"
      ],
      "metadata": {
        "colab": {
          "base_uri": "https://localhost:8080/"
        },
        "id": "JdNpePODQjqD",
        "outputId": "5f118365-7a4a-47b8-cd0f-7a2cdd074c1d"
      },
      "execution_count": null,
      "outputs": [
        {
          "output_type": "stream",
          "name": "stdout",
          "text": [
            "Введите URL страницы: https://www.aljazeera.com/\n",
            "Введите фамилию для анализа: Trump\n",
            "Количество упоминаний фамилии 'Trump': 10\n"
          ]
        }
      ]
    },
    {
      "cell_type": "code",
      "source": [
        "# 1 Импорт библиотек:\n",
        "import requests # библиотека используется для отправки HTTP-запросов на / сайты и получения их содержимого.\n",
        "from bs4 import BeautifulSoup # библиотека используется для разбора HTML / и XML документов, что позволяет легко извлекать данные из веб-страниц.\n",
        "import re # библиотека предоставляет операции с регулярными выражениями / для сопоставления шаблонов в тексте.\n",
        "\n",
        "# 2 Определение функции:\n",
        "def fetch_and_format_text(url): # функция принимает на вход URL и / выполняет следующие действия:\n",
        "\n",
        "#3 Получение и подготовка содержимого страницы (загружаем HTML-контент страницы):\n",
        "    response = requests.get(url) # получает HTML-содержимое веб-страницы по заданному URL.\n",
        "    response.raise_for_status()  # проверка успешности запроса.\n",
        "\n",
        "    response.encoding = response.apparent_encoding # служит для обработки / кодировки символов, чтобы обеспечить правильную интерпретацию текста.\n",
        "    soup = BeautifulSoup(response.text, 'html.parser') # создает объект BeautifulSoup для разбора HTML-содержимого.\n",
        "\n",
        "    text = soup.get_text(separator=\" \")  # извлекает весь текст из HTML, / удаляя теги и используя пробел в качестве разделителя.\n",
        "\n",
        " #4 Разделение и форматирование сообщений:\n",
        "    messages = re.split(r'(?=\\b\\d{2}:\\d{2}\\b)', text) # разделяет извлеченный / текст на сообщения на основе регулярного выражения, которое соответствует шаблонам времени.\n",
        "    # код просматривает каждое `сообщение`, удаляет лишние пробелы и добавляет его в `formatted_messages`.\n",
        "    # возвращает список `formatted_messages`.\n",
        "\n",
        "    formatted_messages = [] # форматирует и выводит каждый заголовок сообщения на новой строке\n",
        "    for message in messages:\n",
        "\n",
        "        message = ' '.join(message.split()) # очищаем лишние пробелы\n",
        "        if message:\n",
        "            formatted_messages.append(message)\n",
        "\n",
        "    return formatted_messages # возвращаем отформатированные сообщения\n",
        "\n",
        "#5 Получение пользовательского ввода и выполнение:\n",
        "url = input(\"Введите URL страницы: \") # ручной ввод URL для анализа\n",
        "messages = fetch_and_format_text(url) # вызывает функцию для получения и форматирования текста из указанного URL.\n",
        "\n",
        "#6 Вывод результатов\n",
        "print(\"\\n--- Сообщения ---\\n\") # код печатает заголовок и перебирает \"сообщения\", выводя каждое сообщение на новой строке.\n",
        "\n",
        "for msg in messages:\n",
        "    print(msg)\n"
      ],
      "metadata": {
        "colab": {
          "base_uri": "https://localhost:8080/"
        },
        "id": "Qi10hjunz57n",
        "outputId": "a234b33f-a263-482f-ec8f-47bef63818c5"
      },
      "execution_count": null,
      "outputs": [
        {
          "output_type": "stream",
          "name": "stdout",
          "text": [
            "Введите URL страницы: https://www.aljazeera.com/\n",
            "\n",
            "--- Сообщения ---\n",
            "\n",
            "Breaking News, World News and Video from Al Jazeera Skip links Skip to Featured Content Skip to Content Feed Skip to Most Read Al Jazeera , link to home page play Live Show navigation menu Navigation menu News Show more news sections Middle East Africa Asia US & Canada Latin America Europe Asia Pacific War on Gaza US Elections Opinion Sport Video More Show more sections Features Ukraine war Economy Climate Crisis Investigations Interactives In Pictures Science & Technology Podcasts play Live Click here to search search Featured Content More than 100,000 in northern Gaza without food, water as Israel attacks blinking-dot Live updates Live updates, list 1 of 6 live-orange Published 5 minutes ago 5m ago Israeli foreign minister: We will not allow Hamas to rule to Gaza list 2 of 6 live-orange Published 20 minutes ago 20m ago Viral video shows Lebanese woman’s love for piano in home destroyed by Israeli army list 3 of 6 live-orange Published 35 minutes ago 35m ago Hezbollah fires missiles at Israeli base in Haifa list 4 of 6 live-orange Published 50 minutes ago 50m ago UNRWA building in southern Lebanon hit by Israeli strike list 5 of 6 live-orange Published 1 hours ago 1h ago WATCH: Gaza mother bids son final goodbye via a video call list 6 of 6 live-orange Published 1 hours ago 1h ago WHO demands protection for health workers after medics killed blinking-dot Live updates Live updates, Harris zeroes in on Michigan, Trump says ‘shouldn’t have left White House’ blinking-dot Live updates Live updates, Harris zeroes in on Michigan, Trump says ‘shouldn’t have left White House’ Crowd hurls mud and insults at Spain royals, PM on visit to flood-hit town Here come the US election 2024 celebrity endorsements – but do they matter? US election: 2 days left – What polls say, what Harris and Trump are up to At least three killed as Israel bombards southern and eastern Lebanon Schools to close as air pollution hits record high in Pakistan’s Lahore Over 50 children killed in Israeli strikes in Gaza’s Jabalia in 2 days: UN US Election 2024 Can Harris energise rural voters in the final stretch of the US election? Can Trump repeat his 2016 victory by rallying working-class voters? Purging voters: Inside Republican efforts to restrict 2024 election vote Go Deeper The world’s oldest termite colony holds secrets – to the past and future How one survivor of Canada’s residential schools reclaimed her identity Why is an Ecuador forest petitioning for the rights to a song? Opinion A Gaza child’s last will quotes Opinion by Asem Alnabih Asem Alnabih How Israel’s starvation of Gaza is affecting Palestinians elsewhere quotes Opinion by Samah Jabr Samah Jabr Watch Latest Videos Satellite images reveal Israeli destruction of villages in south Lebanon play-arrow Video Duration 03 minutes 13 seconds\n",
            "03:13 Outrage over Israeli warship passing through the Suez Canal play-arrow Video Duration 01 minutes 08 seconds\n",
            "01:08 Israel abducts man during coastal raid into northern Lebanon play-arrow Video Duration 01 minutes 43 seconds\n",
            "01:43 Trump says he’ll rescue US economy from ‘obliteration’ play-arrow Video Duration 01 minutes 04 seconds\n",
            "01:04 Advertisement Content Feed Harris vs Trump EXPLAINER US election: How will results affect wars in Gaza, Ukraine and Sudan? Several wars raging around the globe could escalate or peter out based on the stance of the next US president. Published On 2 Nov 2024 2 Nov 2024 EXPLAINER US election: Who do world leaders prefer for president – Harris or Trump? From Putin to Xi Jinping, European and NATO leaders to India’s Modi, who would world leaders prefer in the White House? Published On 1 Nov 2024 1 Nov 2024 Conservative Christians, Israel and the US vote Conservative Christians, notably evangelicals, are key Republican voters, but some are breaking with party on Israel. Published On 1 Nov 2024 1 Nov 2024 US election: Why is Kamala Harris losing Indian American voters? She could become the Indian American president. So why is she bleeding votes – to Trump’s advantage? Published On 1 Nov 2024 1 Nov 2024 As Trump, Harris woo Arab Americans, Michigan mayor readies to up pressure Whoever wins, push for change in US Middle East policy will continue, Dearborn’s Abdullah Hammoud tells Al Jazeera. Published On 1 Nov 2024 1 Nov 2024 EXPLAINER US election 2024: Everything you need to know in maps and charts Understanding the Electoral College, battleground states and key races in the US for the November 5 vote. aj-logo aj-logo aj-logo Most popular Harris zeroes in on Michigan, Trump says ‘shouldn’t have left White House’ More than 100,000 in northern Gaza without food, water as Israel attacks US election results: When can we expect the final outcome? US election: 2 days left – What polls say, what Harris and Trump are up to US election: Who do world leaders prefer for president – Harris or Trump? What to know about flash floods that killed over 200 people in Spain play Outrage over Israeli warship passing through the Suez Canal Crowd hurls mud and insults at Spain royals, PM on visit to flood-hit town Man Utd held by Chelsea in first Premier League game since ten Hag sacking The world’s oldest termite colony holds secrets – to the past and future aj-logo Sponsored Content Advertisement loading Your browser does not support the audio element. audio-rewind audio-previous audio-play audio-next audio-forward 0 audio-volume-mute close About Show more About Us Code of Ethics Terms and Conditions EU/EEA Regulatory Notice Privacy Policy Cookie Policy Cookie Preferences Sitemap Work for us Connect Show more Contact Us User Accounts Help Advertise with us Apps Newsletters Channel Finder TV Schedule Podcasts Submit a Tip Our Channels Show more Al Jazeera Arabic Al Jazeera English Al Jazeera Investigative Unit Al Jazeera Mubasher Al Jazeera Documentary Al Jazeera Balkans AJ+ Our Network Show more Al Jazeera Centre for Studies Al Jazeera Media Institute Learn Arabic Al Jazeera Centre for Public Liberties & Human Rights Al Jazeera Forum Al Jazeera Hotel Partners Follow Al Jazeera English: facebook twitter youtube instagram-colored-outline rss © 2024 Al Jazeera Media Network\n"
          ]
        }
      ]
    },
    {
      "cell_type": "code",
      "source": [],
      "metadata": {
        "id": "P7MnFimh9XSg"
      },
      "execution_count": null,
      "outputs": []
    }
  ]
}